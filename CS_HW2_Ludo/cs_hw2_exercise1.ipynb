{
 "cells": [
  {
   "cell_type": "markdown",
   "metadata": {},
   "source": [
    "Let $x, y$ be two independent random variable uniformly distributed on the square $A$ defined by $-1<x<1, -1<y<1$.\n",
    "\n",
    "Consider the random variable\n",
    "    $$\n",
    "      S(x, y) =   \\begin{cases}\n",
    "                        4 & x^2+y^2 < 1 \\\\\n",
    "                        0 & otherwise \\\\\n",
    "                  \\end{cases}\n",
    "    $$\n"
   ]
  },
  {
   "cell_type": "markdown",
   "metadata": {},
   "source": [
    "__1) Compute the probability distribution of S, its mean and it variance.__\n",
    "\n",
    "Given independence and uniformity on $x$ and $y$, we have $P(x, y) = P(x)P(y) = \\frac{1}{2} \\frac{1}{2} = \\frac{1}{4}$.\n",
    "\n",
    "A) _PROBABILITY DISTRIBUTION_\n",
    "    $$ \n",
    "    P_S(4) = \\iint_A p(x,y) \\cdot \\delta\\left(S(x,y) - 4\\right) \\,dx\\,dy = \\frac{1}{4} \\cdot \\iint_{x^2+y^2 < 1} \\,dx\\,dy = \\frac{\\pi}{4} \n",
    "    $$\n",
    "\n",
    "Then:\n",
    "    $$ \n",
    "    P_S(s) = \\delta\\left(s-4\\right) \\cdot \\frac{\\pi}{4} + \\delta(s) \\cdot \\left(1-\\frac{\\pi}{4}\\right)\n",
    "    $$\n",
    "\n",
    "B) _MEAN_\n",
    "    $$\n",
    "    \\langle S \\rangle = \\sum_i s_i \\cdot P_S(s) = \\pi \n",
    "    $$\n",
    "\n",
    "C) _VARIANCE_\n",
    "\n",
    "We compute the mean of the square of $S$ first.\n",
    "    $$\n",
    "    \\langle S^2 \\rangle = \\sum_i s_i^2 \\cdot P_S(s) = 4 \\pi \n",
    "    $$\n",
    "It follows that the variance is:   \n",
    "    $$\n",
    "    \\Delta = \\langle S^2 \\rangle - \\langle S \\rangle^2 = 4 \\pi - \\pi^2 = \\pi\\left(4 - \\pi\\right)\n",
    "    $$\n",
    "\n"
   ]
  },
  {
   "cell_type": "markdown",
   "metadata": {
    "collapsed": true
   },
   "source": [
    "__2) Unbiased estimators of the mean and the variance of S__\n",
    "\n",
    "Consider $\\hat{m} = \\frac{1}{N}\\sum_i S_i$ and $\\hat{\\Delta} = \\frac{1}{N-1} \\sum_i S_i^2 - \\hat{m}^2$ with $\\{S_i\\}_i$ being identifical and independent variables.\n"
   ]
  },
  {
   "cell_type": "markdown",
   "metadata": {},
   "source": [
    " A) _UNBIASEDNESS OF THE MEAN ESTIMATOR_\n",
    "    $$\n",
    "    \\langle \\hat{m} \\rangle = \\frac{1}{N}\\sum_i \\langle S_i \\rangle = \\frac{N}{N} \\langle S \\rangle = \\langle S \\rangle\n",
    "    $$\n",
    "    \n",
    " B) _UNBIASEDNESS OF THE VARIANCE ESTIMATOR_\n",
    "    $$\n",
    "    \\langle \\hat{\\Delta} \\rangle = \\frac{1}{N-1} \\sum_i \\langle S_i^2 \\rangle - \\langle \\hat{m}^2 \\rangle = \\frac{N}{N-1} \\langle S^2 \\rangle - \\frac{N}{N-1}\\langle \\hat{m}^2 \\rangle\n",
    "    $$\n",
    "    Let us compute $\\langle \\hat{m}^2 \\rangle$ first.\n",
    "    $$\n",
    "    \\begin{equation}\n",
    "    \\begin{split}\n",
    "    \\langle \\hat{m}^2 \\rangle & = \\frac{1}{N^2}\\sum_{i, j} \\langle S_i S_j \\rangle \\\\\n",
    "        & = \\frac{1}{N^2}\\sum_{i=j} \\langle S_i^2 \\rangle + \\frac{1}{N^2}\\sum_{i \\neq j} \\langle S_i S_j \\rangle \\\\\n",
    "        & = \\frac{1}{N}\\langle S^2 \\rangle + \\frac{1}{N^2}\\sum_{i \\neq j} \\langle S_i \\rangle \\langle S_j \\rangle \\\\\n",
    "        & = \\frac{1}{N}\\langle S^2 \\rangle + \\frac{1}{N^2}\\sum_{i} \\langle S_i \\rangle \\cdot \\sum_{j} \\langle S_j \\rangle - \\frac{1}{N^2}\\sum_{i} \\langle S_i \\rangle^2 \\\\\n",
    "        & = \\frac{\\Delta}{N} + \\langle S \\rangle^2 = \\frac{\\langle S^2 \\rangle}{N} +\\langle S \\rangle^2 \\frac{N-1}{N}\n",
    "    \\end{split}\n",
    "    \\end{equation}\n",
    "    $$\n",
    "   In the third equality we used the independence of the random variables. Then we obtain immediately:\n",
    "   $$\n",
    "   \\langle \\hat{\\Delta} \\rangle = \\frac{N}{N-1} \\langle S^2 \\rangle - \\frac{1}{N-1} \\langle S^2 \\rangle -  \\langle S \\rangle^2 = \\Delta\n",
    "   $$\n",
    "   "
   ]
  },
  {
   "cell_type": "markdown",
   "metadata": {},
   "source": [
    "__3) Variance of the mean estimator and typical error__"
   ]
  },
  {
   "cell_type": "markdown",
   "metadata": {},
   "source": [
    "We use the results obtained from the above\n",
    "$$\n",
    "\\Delta_{\\hat{m}} = \\langle \\hat{m}^2\\rangle - \\langle \\hat{m} \\rangle^2 = \\frac{\\Delta}{N} + \\langle S \\rangle^2 - \\langle S \\rangle^2 = \\frac{\\Delta}{N}\n",
    "$$\n",
    "The typical error made by the estimator $\\hat{m}$ is of the order $ \\sim \\sqrt{\\frac{\\Delta}{N}} = \\sqrt{\\frac{1}{N}} \\sqrt{\\pi\\left(4-\\pi \\right)} $"
   ]
  },
  {
   "cell_type": "markdown",
   "metadata": {},
   "source": [
    "__4) Sampling points and checking the results above__"
   ]
  },
  {
   "cell_type": "markdown",
   "metadata": {},
   "source": [
    "Let us plot the behavior of the $\\Delta_{\\hat{m}}$ by sampling points through Monte Carlo."
   ]
  },
  {
   "cell_type": "code",
   "execution_count": 1,
   "metadata": {
    "collapsed": true
   },
   "outputs": [],
   "source": [
    "def exp_var(n):\n",
    "    pi = 3.14159265359\n",
    "    delta = pi*(4-pi)\n",
    "    return delta/n"
   ]
  },
  {
   "cell_type": "code",
   "execution_count": 7,
   "metadata": {},
   "outputs": [
    {
     "data": {
      "image/png": "[encoded data removed]",
      "text/plain": [
       "<matplotlib.figure.Figure at 0x7f14a41344e0>"
      ]
     },
     "metadata": {},
     "output_type": "display_data"
    },
    {
     "data": {
      "image/png": "[encoded data removed]",
      "text/plain": [
       "<matplotlib.figure.Figure at 0x7f14a4218be0>"
      ]
     },
     "metadata": {},
     "output_type": "display_data"
    }
   ],
   "source": [
    "import random\n",
    "import matplotlib.pyplot as plt\n",
    "\n",
    "pi = 3.14159265359\n",
    "\n",
    "s = 4\n",
    "max_num_trials = 800\n",
    "min_num_trials = 10\n",
    "num_trials = 1000\n",
    "num_inside = 0 # expect num_inside ~ num_trials*pi/4\n",
    "rel_error = 0.01\n",
    "\n",
    "num_of_means = 1000\n",
    "var = []\n",
    "pr_rel_error = []\n",
    "N = range(min_num_trials, max_num_trials)\n",
    "\n",
    "for i in range(min_num_trials, max_num_trials): \n",
    "    mean_m = 0\n",
    "    mean_m_squared = 0\n",
    "    pr_rel_error_tmp = 0\n",
    "    for j in range(0, num_of_means):\n",
    "        m = 0\n",
    "        m_squared = 0\n",
    "        num_trials = i+1\n",
    "        num_inside = 0\n",
    "        for k in range(num_trials):\n",
    "            x, y = random.uniform(-1.0, 1.0), random.uniform(-1.0, 1.0)\n",
    "            if x**2 + y**2 < 1.0:\n",
    "                num_inside += 1\n",
    "                m += s      \n",
    "        m /= num_trials\n",
    "        if abs(m-pi)/pi > 0.01 :\n",
    "            pr_rel_error_tmp+=1\n",
    "        mean_m += m\n",
    "        mean_m_squared += m*m\n",
    "          \n",
    "    mean_m /= num_of_means\n",
    "    mean_m_squared /= num_of_means        \n",
    "    pr_rel_error_tmp /= num_of_means    \n",
    "    var.append(mean_m_squared - mean_m*mean_m)\n",
    "    pr_rel_error.append(pr_rel_error_tmp)\n",
    "\n",
    "var_the = []\n",
    "for i in range(min_num_trials, max_num_trials):\n",
    "    var_the.append(exp_var(i))\n",
    "        \n",
    "plt.plot(N,var, label='Monte Carlo Curve')\n",
    "plt.plot(N,var_the, label='Theoretical Curve')\n",
    "plt.legend(loc='upper right')\n",
    "plt.xlabel('N')\n",
    "plt.ylabel('VARIANCE m')\n",
    "plt.show() \n",
    "\n",
    "plt.plot(N, pr_rel_error)\n",
    "plt.xlabel('N')\n",
    "plt.ylabel('Pr(|m-PI|/PI > 0.01)')\n",
    "plt.show()\n"
   ]
  },
  {
   "cell_type": "code",
   "execution_count": null,
   "metadata": {
    "collapsed": true
   },
   "outputs": [],
   "source": []
  }
 ],
 "metadata": {
  "kernelspec": {
   "display_name": "Python 3",
   "language": "python",
   "name": "python3"
  },
  "language_info": {
   "codemirror_mode": {
    "name": "ipython",
    "version": 3
   },
   "file_extension": ".py",
   "mimetype": "text/x-python",
   "name": "python",
   "nbconvert_exporter": "python",
   "pygments_lexer": "ipython3",
   "version": "3.5.4"
  }
 },
 "nbformat": 4,
 "nbformat_minor": 2
}
